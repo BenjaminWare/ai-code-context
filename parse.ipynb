{
 "cells": [
  {
   "cell_type": "code",
   "execution_count": 11,
   "metadata": {},
   "outputs": [
    {
     "ename": "AttributeError",
     "evalue": "'builtin_function_or_method' object has no attribute '__type_params__'",
     "output_type": "error",
     "traceback": [
      "\u001b[0;31m---------------------------------------------------------------------------\u001b[0m",
      "\u001b[0;31mAttributeError\u001b[0m                            Traceback (most recent call last)",
      "Cell \u001b[0;32mIn[11], line 2\u001b[0m\n\u001b[1;32m      1\u001b[0m \u001b[38;5;28;01mimport\u001b[39;00m \u001b[38;5;21;01mos\u001b[39;00m\n\u001b[0;32m----> 2\u001b[0m \u001b[43mos\u001b[49m\u001b[38;5;241;43m.\u001b[39;49m\u001b[43mwrite\u001b[49m\u001b[38;5;241;43m.\u001b[39;49m\u001b[43m__type_params__\u001b[49m\n",
      "\u001b[0;31mAttributeError\u001b[0m: 'builtin_function_or_method' object has no attribute '__type_params__'"
     ]
    }
   ],
   "source": [
    "import os"
   ]
  },
  {
   "cell_type": "code",
   "execution_count": 12,
   "metadata": {},
   "outputs": [],
   "source": [
    "file = open(os.__file__,'r')\n",
    "f = file.read()"
   ]
  },
  {
   "cell_type": "code",
   "execution_count": 1,
   "metadata": {},
   "outputs": [
    {
     "name": "stdout",
     "output_type": "stream",
     "text": [
      "def func(a:int) -> (int,bool):\n",
      "    pass\n",
      "    pass\n",
      "\n"
     ]
    }
   ],
   "source": [
    "import inspect\n",
    "def func(a:int) -> (int,bool):\n",
    "    pass\n",
    "    pass\n",
    "print(inspect.getsource(func))"
   ]
  },
  {
   "cell_type": "code",
   "execution_count": 14,
   "metadata": {},
   "outputs": [
    {
     "data": {
      "text/plain": [
       "'\\n    Returns the indices of the maximum values along an axis.\\n\\n    Parameters\\n    ----------\\n    a : array_like\\n        Input array.\\n    axis : int, optional\\n        By default, the index is into the flattened array, otherwise\\n        along the specified axis.\\n    out : array, optional\\n        If provided, the result will be inserted into this array. It should\\n        be of the appropriate shape and dtype.\\n    keepdims : bool, optional\\n        If this is set to True, the axes which are reduced are left\\n        in the result as dimensions with size one. With this option,\\n        the result will broadcast correctly against the array.\\n\\n        .. versionadded:: 1.22.0\\n\\n    Returns\\n    -------\\n    index_array : ndarray of ints\\n        Array of indices into the array. It has the same shape as ``a.shape``\\n        with the dimension along `axis` removed. If `keepdims` is set to True,\\n        then the size of `axis` will be 1 with the resulting array having same\\n        shape as ``a.shape``.\\n\\n    See Also\\n    --------\\n    ndarray.argmax, argmin\\n    amax : The maximum value along a given axis.\\n    unravel_index : Convert a flat index into an index tuple.\\n    take_along_axis : Apply ``np.expand_dims(index_array, axis)``\\n                      from argmax to an array as if by calling max.\\n\\n    Notes\\n    -----\\n    In case of multiple occurrences of the maximum values, the indices\\n    corresponding to the first occurrence are returned.\\n\\n    Examples\\n    --------\\n    >>> import numpy as np\\n    >>> a = np.arange(6).reshape(2,3) + 10\\n    >>> a\\n    array([[10, 11, 12],\\n           [13, 14, 15]])\\n    >>> np.argmax(a)\\n    5\\n    >>> np.argmax(a, axis=0)\\n    array([1, 1, 1])\\n    >>> np.argmax(a, axis=1)\\n    array([2, 2])\\n\\n    Indexes of the maximal elements of a N-dimensional array:\\n\\n    >>> ind = np.unravel_index(np.argmax(a, axis=None), a.shape)\\n    >>> ind\\n    (1, 2)\\n    >>> a[ind]\\n    15\\n\\n    >>> b = np.arange(6)\\n    >>> b[1] = 5\\n    >>> b\\n    array([0, 5, 2, 3, 4, 5])\\n    >>> np.argmax(b)  # Only the first occurrence is returned.\\n    1\\n\\n    >>> x = np.array([[4,2,3], [1,0,3]])\\n    >>> index_array = np.argmax(x, axis=-1)\\n    >>> # Same as np.amax(x, axis=-1, keepdims=True)\\n    >>> np.take_along_axis(x, np.expand_dims(index_array, axis=-1), axis=-1)\\n    array([[4],\\n           [3]])\\n    >>> # Same as np.amax(x, axis=-1)\\n    >>> np.take_along_axis(x, np.expand_dims(index_array, axis=-1),\\n    ...     axis=-1).squeeze(axis=-1)\\n    array([4, 3])\\n\\n    Setting `keepdims` to `True`,\\n\\n    >>> x = np.arange(24).reshape((2, 3, 4))\\n    >>> res = np.argmax(x, axis=1, keepdims=True)\\n    >>> res.shape\\n    (2, 1, 4)\\n    '"
      ]
     },
     "execution_count": 14,
     "metadata": {},
     "output_type": "execute_result"
    }
   ],
   "source": [
    "np.argmax.__doc__"
   ]
  },
  {
   "cell_type": "code",
   "execution_count": null,
   "metadata": {},
   "outputs": [],
   "source": [
    "\n",
    "\"\"\"\n",
    "1. Recieve request to analyze particular user defined function\n",
    "2. Get File in which the function is defined\n",
    "3. Get list of all dependencies of the function, specifically functions it calls\n",
    "4. Get information about each of these functions\n",
    "    - Find their function bodies and repeat from step 1\n",
    "    - Find their doc page via google\n",
    "    - Grab runtime info using help()/inspect.getdoc and __globals__ \n",
    "        - This will require using ast to grab all the imports and then the json api of pypi to get the packages, Current best solution is a KNOWN_IMPORT_MAP just handwrite it\n",
    "    - Only some of these will work for each kind of function, probably do the google search last \n",
    "5. Create some big JSON/python_dict with fields collected in step 4\n",
    "6. Hand your dict off to the AI and expect it to write you some JSON about the function.\n",
    "\n",
    "\n",
    "In essence we are trying to create the best context possible around a python function and then use it to inform the programmer.\n",
    "\n",
    "\"\"\""
   ]
  },
  {
   "cell_type": "code",
   "execution_count": null,
   "metadata": {},
   "outputs": [],
   "source": []
  },
  {
   "cell_type": "code",
   "execution_count": null,
   "metadata": {},
   "outputs": [],
   "source": [
    "\n",
    "# __annotations__, annotations if the chose to provide them like a:int\n",
    "# __help__, prints help page could be useful seems to just print __doc__\n",
    "# __doc__, prints doc string for function pretty good text description of function \n",
    "# __globals__, IMPORTANT gives you the global names space, pretty long but a lot of good info for what the function can see\n",
    "# __closure__, closured variables\n",
    "\n",
    "# __globals__ and __closure__ for stuff you defined\n",
    "# help(function) for dependencies\n",
    "\n",
    "# inspect.isbuiltin() can tell us if its built in or not"
   ]
  },
  {
   "cell_type": "code",
   "execution_count": null,
   "metadata": {},
   "outputs": [],
   "source": [
    "# Example KNOWN_IMPORT_MAP generated by chatgpt\n",
    "\n",
    "KNOWN_IMPORT_MAP = {\n",
    "    \"dotenv\": \"python-dotenv\",                # import dotenv -> python-dotenv\n",
    "    \"PIL\": \"Pillow\",                          # import PIL -> Pillow\n",
    "    \"cv2\": \"opencv-python\",                   # import cv2 -> opencv-python\n",
    "    \"sklearn\": \"scikit-learn\",                # import sklearn -> scikit-learn\n",
    "    \"yaml\": \"PyYAML\",                         # import yaml -> PyYAML\n",
    "    \"bs4\": \"beautifulsoup4\",                  # import bs4 -> beautifulsoup4\n",
    "    \"Crypto\": \"pycryptodome\",                 # import Crypto -> pycryptodome\n",
    "    \"Tkinter\": \"tk\",                          # Python 2 module -> tkinter in Python 3\n",
    "    \"cPickle\": \"pickle\",                      # Python 2 -> Python 3\n",
    "    \"SimpleHTTPServer\": \"http-server\",        # Python 2 -> http-server\n",
    "    \"Cookie\": \"cookies\",                      # Python 2 -> cookies\n",
    "    \"StringIO\": \"pythondialog\",               # Python 2 -> io.StringIO in Python 3\n",
    "    \"Queue\": \"queue\",                         # Python 2 -> queue in Python 3\n",
    "    \"html\": \"html5lib\",                       # import html -> html5lib\n",
    "    \"ujson\": \"ujson\",                         # UltraJSON -> ujson\n",
    "    \"pywin32\": \"pypiwin32\",                   # import pywin32 -> pypiwin32\n",
    "    \"skimage\": \"scikit-image\",                # import skimage -> scikit-image\n",
    "    \"flask_wtf\": \"Flask-WTF\",                 # import flask_wtf -> Flask-WTF\n",
    "    \"flask_sqlalchemy\": \"Flask-SQLAlchemy\",   # import flask_sqlalchemy -> Flask-SQLAlchemy\n",
    "    \"flask_login\": \"Flask-Login\",             # import flask_login -> Flask-Login\n",
    "    \"flask_migrate\": \"Flask-Migrate\",         # import flask_migrate -> Flask-Migrate\n",
    "    \"flask_restful\": \"Flask-RESTful\",         # import flask_restful -> Flask-RESTful\n",
    "    \"flask_script\": \"Flask-Script\",           # import flask_script -> Flask-Script\n",
    "    \"flask_socketio\": \"Flask-SocketIO\",       # import flask_socketio -> Flask-SocketIO\n",
    "    \"psycopg2\": \"psycopg2-binary\",            # import psycopg2 -> psycopg2-binary\n",
    "    \"xlsxwriter\": \"XlsxWriter\",               # import xlsxwriter -> XlsxWriter\n",
    "    \"pyyaml\": \"PyYAML\",                       # import yaml -> PyYAML\n",
    "    \"jinja2\": \"Jinja2\",                       # import jinja2 -> Jinja2\n",
    "    \"pytest_cov\": \"pytest-cov\",               # import pytest_cov -> pytest-cov\n",
    "}\n"
   ]
  }
 ],
 "metadata": {
  "kernelspec": {
   "display_name": ".venv",
   "language": "python",
   "name": "python3"
  },
  "language_info": {
   "codemirror_mode": {
    "name": "ipython",
    "version": 3
   },
   "file_extension": ".py",
   "mimetype": "text/x-python",
   "name": "python",
   "nbconvert_exporter": "python",
   "pygments_lexer": "ipython3",
   "version": "3.12.4"
  }
 },
 "nbformat": 4,
 "nbformat_minor": 2
}
